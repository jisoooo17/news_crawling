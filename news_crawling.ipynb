{
 "cells": [
  {
   "cell_type": "code",
   "execution_count": 13,
   "metadata": {},
   "outputs": [],
   "source": [
    "# 웹 크롤링에 대한 이해\n",
    "# 웹 크롤링은 컴퓨터가 유저대신 \n",
    "# 데이터 열람, 복사, 저장 등의 과정을 진행하는 것이다.\n",
    "# 예매 매크로 프로그램과 유사한 측면이 있으나 \n",
    "# 예매 매크로과 완전히 같은 기능은 없다.\n",
    "\n",
    "# 웹 크롤링엔 크게 정적 크롤링과 동적 크롤링이 있다.\n",
    "\n",
    "# 정적 크롤링: url로 사이트 접근 시 특별한 작업 없이 원하는 데이터 접근가능\n",
    "# 예) 다음뉴스, 다음영화 등\n",
    "\n",
    "# 동적 크롤링: 원하는 데이터 접근 시 유저가 별도의 작업을 해야한다.\n",
    "# 예) 유튜브, 인스타그램 등\n",
    "\n",
    "# 정적 크롤링에 사용되는 라이브러리는 BeautifulSoup 이 있고\n",
    "# 동적 크롤링에 사용되는 라이브러리는 Selenium이 있다."
   ]
  },
  {
   "cell_type": "code",
   "execution_count": 14,
   "metadata": {},
   "outputs": [
    {
     "name": "stdout",
     "output_type": "stream",
     "text": [
      "[\"[단독] '마크 곤잘레스' 덕에 年 400억씩 벌었는데…날벼락\", '대구 아파트 공사장서 50대 인부 낙하물에 맞아 숨져', \"[단독] 초교 20m 앞 '성인 페스티벌' 논란에 교육 당국 칼 빼들었다\", '“의대 정원 늘려도, 가르칠 인원이 없다”… 30년 해부학 가르친 교수의 한탄', \"'자필 계약서'면 끝?…허경영의 이상한 부동산 거래\", '중국 방문한 애플·마이크론 CEO 잇따라 선물보따리...“中 투자 확대”', \"허영인 SPC회장 '민노총 노조 파괴'등 혐의 검찰 출석\", '중소기업 파산 신청 40% 증가…대출 잔액 사상 최대', '소송하고 거래 끊고… 75년 동업 고려아연·영풍 “이젠 경쟁자”', '경기 띄우기 급급한 中, 좋은 성적만 골라 ‘깜짝 공개’… 역효과 지적도', '[Why] “샤넬 웃고 구찌 울고”… 명품 희비 엇갈리는 이유', '[줌인] “전 세계가 우리의 적”...모스크바 테러 배후 IS', '영어유치원 계속 늘어 840개 돌파…사교육비 월 121만원', \"[르포] '시장과 다르네'…출근길 인사 한동훈 향한 차가운 시선\", \"출국 논란·정권 심판론 부각 수도권 판세 '출렁'…경기 초접전지역은?\", '녹색정의당 \"4⋅10 총선, 21대와 같은 6석 목표\"', '빨간운동화 조여 맨 부산 국힘 후보들 \"18석 압승, 제2의 건국전쟁\"', 'MB, 천안함묘역 참배 \"이념대립·분열 극심, 국민화합 이끌어야\"', '충남 홍성서 경운기와 카니발 승합차 추돌… 7명 중경상', '尹 \"민생과제…국민 체감하도록 정책 추진속도 높일 것\"', \"[스프] 잠시 찾아왔다가 금방 사라진 '복지국가' 미국, 그리고 지금은?\", '[영상]‘테러 자처’ IS 호라산…왜 러시아 심장부 노렸나 [세모금]', '[아침신문 솎아보기] 경향신문 \"尹 \\'의사·정부 중재\\' 한동훈 띄우기\"', '[긴급인터뷰]조규홍 장관 \"의료공백 최소화가 중요…전공의 면허 처분 유연하게\"', '청소년 자녀의 머리 냄새 원인, 알고 보니… [달콤한 사이언스]', '“벚꽃을 보며 건강트레킹을 즐겨요”…리솜리조트 4월 ‘블루밍 리솜’ 진행', '이재명 \"中에 그냥 셰셰하면 된다\"...한동훈 \"굴종 인식\" [Y녹취록]', \"[지금은 기후위기] 치솟는 해수면…'킬링 커브' 되나\", \"'의대정원 증원, 오해와 진실'\", \"떡볶이타운 함께 방문한 한동훈·인요한, '국민의 눈높이에 맞는 선거운동 하기로'\", '북일정상회담 제의한 것으로 알려진 기시다', '국방부 2030자문단과 대화하는 신원식 장관'] 32\n"
     ]
    }
   ],
   "source": [
    "# *****파싱:\n",
    "# BeautifulSoup 객체를 생성하려면 HTML 또는 XML 문자열과 \n",
    "# 파서를 전달해야 합니다. 일반적으로 'html.parser'를 사용합니다.\n",
    "# 파서 = 데이터를 분석하는 해독기\n",
    "# 사이트 url을 html_doc변수에 담아서 선언\n",
    "# 사이트 주소를 요청하는 라이브러리\n",
    "\n",
    "# 1. 라이브러리 호출\n",
    "import urllib.request as req\n",
    "from bs4 import BeautifulSoup\n",
    "\n",
    "# 2. 원하는 url 주소 담아서 열리는지 확인\n",
    "url = \"http://media.daum.net\"\n",
    "# 위 주소를 열어봐서(다음 서버에 정보요청) 잘 열리는 경우에만 정보열람\n",
    "res = req.urlopen(url)\n",
    "source = res.read()\n",
    "\n",
    "# 3. 한글깨짐 방지\n",
    "# 한글을 지원하는 유니코드입니다. (한글깨짐 방지 ^^)\n",
    "source = source.decode('utf-8')\n",
    "\n",
    "# 4. 데이터 해석 (parsing)\n",
    "# BeautifulSoup에서 본 사이트는 html문서라는 것을 알려줌\n",
    "html = BeautifulSoup(source, 'html.parser')\n",
    "# ***파악한 패턴을 적용하여 원하는 정보를 atags 변수에 저장 합니다.\n",
    "atags = html.select('a[class=link_txt]')\n",
    "\n",
    "# 일단 결과를 테스트 출력\n",
    "# atags 변수에 원하는 데이터가 있음을 확인\n",
    "# print(atags, len(atags))\n",
    "\n",
    "\n",
    "# 뉴스 내용만 수집하려면?\n",
    "# result_data 변수에 빈 리스트 자료구조를 선언 (문자열 데이터 만을 추출하면 된다.)\n",
    "result_data = []\n",
    "\n",
    "cnt = 0 # 총 뉴스 헤드라인의 개수도 세고싶어서 cnt 변수 선언\n",
    "# 크롤링한 전체 데이터에서 개별 데이터 호출\n",
    "# for문으로 크롤링 데이터 셋에서 개별문장 하나씩 호출\n",
    "for ii in atags:\n",
    "    cnt += 1\n",
    "    # 데이터를 문자열로 변환 (전체 문장에서 문자열 데이터만 추출함)\n",
    "    atag_str = str(ii.string)\n",
    "    # 걸러진 문자열 데이터를 준비한 리스트 자료구조에 담습니다\n",
    "    result_data.append(atag_str.strip()) # 문장좌우에 불필요한 여백은 strip으로 제거\n",
    "\n",
    "print(result_data, cnt)\n"
   ]
  },
  {
   "cell_type": "code",
   "execution_count": 15,
   "metadata": {},
   "outputs": [
    {
     "name": "stdout",
     "output_type": "stream",
     "text": [
      "저희 결과는\n",
      "['[단독] 마크 곤잘레스 덕에 年 억씩 벌었는데…날벼락', '대구 아파트 공사장서 대 인부 낙하물에 맞아 숨져', '[단독] 초교 앞 성인 페스티벌 논란에 교육 당국 칼 빼들었다', '“의대 정원 늘려도 가르칠 인원이 없다”… 년 해부학 가르친 교수의 한탄', '자필 계약서면 끝…허경영의 이상한 부동산 거래', '중국 방문한 애플·마이크론 잇따라 선물보따리“中 투자 확대”', '허영인 회장 민노총 노조 파괴등 혐의 검찰 출석', '중소기업 파산 신청 증가…대출 잔액 사상 최대', '소송하고 거래 끊고… 년 동업 고려아연·영풍 “이젠 경쟁자”', '경기 띄우기 급급한 中 좋은 성적만 골라 ‘깜짝 공개’… 역효과 지적도', '[] “샤넬 웃고 구찌 울고”… 명품 희비 엇갈리는 이유', '[줌인] “전 세계가 우리의 적”모스크바 테러 배후', '영어유치원 계속 늘어 개 돌파…사교육비 월 만원', '[르포] 시장과 다르네…출근길 인사 한동훈 향한 차가운 시선', '출국 논란·정권 심판론 부각 수도권 판세 출렁…경기 초접전지역은', '녹색정의당 ⋅ 총선 대와 같은 석 목표', '빨간운동화 조여 맨 부산 국힘 후보들 석 압승 제의 건국전쟁', '천안함묘역 참배 이념대립·분열 극심 국민화합 이끌어야', '충남 홍성서 경운기와 카니발 승합차 추돌… 명 중경상', '尹 민생과제…국민 체감하도록 정책 추진속도 높일 것', '[스프] 잠시 찾아왔다가 금방 사라진 복지국가 미국 그리고 지금은', '[영상]‘테러 자처’ 호라산…왜 러시아 심장부 노렸나 [세모금]', '[아침신문 솎아보기] 경향신문 尹 의사·정부 중재 한동훈 띄우기', '[긴급인터뷰]조규홍 장관 의료공백 최소화가 중요…전공의 면허 처분 유연하게', '청소년 자녀의 머리 냄새 원인 알고 보니… [달콤한 사이언스]', '“벚꽃을 보며 건강트레킹을 즐겨요”…리솜리조트 월 ‘블루밍 리솜’ 진행', '이재명 中에 그냥 셰셰하면 된다한동훈 굴종 인식 [녹취록]', '[지금은 기후위기] 치솟는 해수면…킬링 커브 되나', '의대정원 증원 오해와 진실', '떡볶이타운 함께 방문한 한동훈·인요한 국민의 눈높이에 맞는 선거운동 하기로', '북일정상회담 제의한 것으로 알려진 기시다', '국방부 자문단과 대화하는 신원식 장관']\n"
     ]
    }
   ],
   "source": [
    "# 텍스트 전처리\n",
    "# 뉴스 데이터 자체는 불필요한 특수기호, 따옴표, 부적절한 띄어쓰기 등으로\n",
    "# 자연어 데이터가 일관성이 떨어진다.\n",
    "# 즉, 단어를 세서 키워드 분석 등의 자연어 처리 작업이 불가 하므로\n",
    "# 문자데이터를 전처리 하여 데이터 클리닝을 진행하여야 한다.\n",
    "\n",
    "\n",
    "# 텍스트 전처리 순서\n",
    "# 1. 텍스트 전처리 관련 (정규 표현식) 라이브러리 호출\n",
    "import re\n",
    "\n",
    "# 2. 텍스트 전처리 함수 만들기\n",
    "# 함수에서 입력값을 받아서 처리하겠다는 의미로 괄호안에 input_data라는 변수 선언\n",
    "def clean_text(ㅋㅋㅋ):\n",
    "    # 문장부호 제거기능 추가 (sub라는 명령어는 교체한다는 의미)\n",
    "    text_string_re1 = re.sub('[,.?!:\\'\\\";]', '', ㅋㅋㅋ)\n",
    "    # 특수문자 제거기능 추가\n",
    "    text_string_re2 = re.sub('[!@#$%^&*()]|[0-9]', '', text_string_re1)\n",
    "    # 영문 대,소문자 --> 영문 소문자로 통일 (소문자 변환 lower함수 사용)\n",
    "    text_string_re3 = text_string_re2.lower()\n",
    "    # 통일된 영문 데이터를 없애기\n",
    "    text_string_re4 = re.sub('[a-z]', '', text_string_re3)\n",
    "    # 불필요한 공백제거 \n",
    "    # (split함수 통해서 단어마다 별도의 데이터로 인식 후, 불필요한 여백제거)\n",
    "    text_string_re5 = ' '.join(text_string_re4.split())\n",
    "    return text_string_re5\n",
    "\n",
    "# 텍스트 함수 사용\n",
    "# 전처리 후 깨끗해진 단어 데이터를 넣을 리스트 자료형 데이터셋을 선언합니다.\n",
    "clean_text2 = []\n",
    "# 이전의 결과 셋에서 개별 데이터를 호출해서 \n",
    "# clean_text함수에 넣고 데이터 전처리\n",
    "for jj in result_data:\n",
    "    clean_text2.append(clean_text(jj))\n",
    "\n",
    "# clean_text2 = [clean_text(jj) for jj in result_data]\n",
    "\n",
    "print(\"저희 결과는\")\n",
    "print(clean_text2) \n"
   ]
  },
  {
   "cell_type": "code",
   "execution_count": 16,
   "metadata": {},
   "outputs": [
    {
     "name": "stdout",
     "output_type": "stream",
     "text": [
      "{'[단독]': 2, '마크': 1, '곤잘레스': 1, '덕에': 1, '年': 1, '억씩': 1, '벌었는데…날벼락': 1, '대구': 1, '아파트': 1, '공사장서': 1, '대': 1, '인부': 1, '낙하물에': 1, '맞아': 1, '숨져': 1, '초교': 1, '앞': 1, '성인': 1, '페스티벌': 1, '논란에': 1, '교육': 1, '당국': 1, '칼': 1, '빼들었다': 1, '“의대': 1, '정원': 1, '늘려도': 1, '가르칠': 1, '인원이': 1, '없다”…': 1, '년': 2, '해부학': 1, '가르친': 1, '교수의': 1, '한탄': 1, '자필': 1, '계약서면': 1, '끝…허경영의': 1, '이상한': 1, '부동산': 1, '거래': 2, '중국': 1, '방문한': 2, '애플·마이크론': 1, '잇따라': 1, '선물보따리“中': 1, '투자': 1, '확대”': 1, '허영인': 1, '회장': 1, '민노총': 1, '노조': 1, '파괴등': 1, '혐의': 1, '검찰': 1, '출석': 1, '중소기업': 1, '파산': 1, '신청': 1, '증가…대출': 1, '잔액': 1, '사상': 1, '최대': 1, '소송하고': 1, '끊고…': 1, '동업': 1, '고려아연·영풍': 1, '“이젠': 1, '경쟁자”': 1, '경기': 1, '띄우기': 2, '급급한': 1, '中': 1, '좋은': 1, '성적만': 1, '골라': 1, '‘깜짝': 1, '공개’…': 1, '역효과': 1, '지적도': 1, '[]': 1, '“샤넬': 1, '웃고': 1, '구찌': 1, '울고”…': 1, '명품': 1, '희비': 1, '엇갈리는': 1, '이유': 1, '[줌인]': 1, '“전': 1, '세계가': 1, '우리의': 1, '적”모스크바': 1, '테러': 1, '배후': 1, '영어유치원': 1, '계속': 1, '늘어': 1, '개': 1, '돌파…사교육비': 1, '월': 2, '만원': 1, '[르포]': 1, '시장과': 1, '다르네…출근길': 1, '인사': 1, '한동훈': 2, '향한': 1, '차가운': 1, '시선': 1, '출국': 1, '논란·정권': 1, '심판론': 1, '부각': 1, '수도권': 1, '판세': 1, '출렁…경기': 1, '초접전지역은': 1, '녹색정의당': 1, '⋅': 1, '총선': 1, '대와': 1, '같은': 1, '석': 2, '목표': 1, '빨간운동화': 1, '조여': 1, '맨': 1, '부산': 1, '국힘': 1, '후보들': 1, '압승': 1, '제의': 1, '건국전쟁': 1, '천안함묘역': 1, '참배': 1, '이념대립·분열': 1, '극심': 1, '국민화합': 1, '이끌어야': 1, '충남': 1, '홍성서': 1, '경운기와': 1, '카니발': 1, '승합차': 1, '추돌…': 1, '명': 1, '중경상': 1, '尹': 2, '민생과제…국민': 1, '체감하도록': 1, '정책': 1, '추진속도': 1, '높일': 1, '것': 1, '[스프]': 1, '잠시': 1, '찾아왔다가': 1, '금방': 1, '사라진': 1, '복지국가': 1, '미국': 1, '그리고': 1, '지금은': 1, '[영상]‘테러': 1, '자처’': 1, '호라산…왜': 1, '러시아': 1, '심장부': 1, '노렸나': 1, '[세모금]': 1, '[아침신문': 1, '솎아보기]': 1, '경향신문': 1, '의사·정부': 1, '중재': 1, '[긴급인터뷰]조규홍': 1, '장관': 2, '의료공백': 1, '최소화가': 1, '중요…전공의': 1, '면허': 1, '처분': 1, '유연하게': 1, '청소년': 1, '자녀의': 1, '머리': 1, '냄새': 1, '원인': 1, '알고': 1, '보니…': 1, '[달콤한': 1, '사이언스]': 1, '“벚꽃을': 1, '보며': 1, '건강트레킹을': 1, '즐겨요”…리솜리조트': 1, '‘블루밍': 1, '리솜’': 1, '진행': 1, '이재명': 1, '中에': 1, '그냥': 1, '셰셰하면': 1, '된다한동훈': 1, '굴종': 1, '인식': 1, '[녹취록]': 1, '[지금은': 1, '기후위기]': 1, '치솟는': 1, '해수면…킬링': 1, '커브': 1, '되나': 1, '의대정원': 1, '증원': 1, '오해와': 1, '진실': 1, '떡볶이타운': 1, '함께': 1, '한동훈·인요한': 1, '국민의': 1, '눈높이에': 1, '맞는': 1, '선거운동': 1, '하기로': 1, '북일정상회담': 1, '제의한': 1, '것으로': 1, '알려진': 1, '기시다': 1, '국방부': 1, '자문단과': 1, '대화하는': 1, '신원식': 1}\n"
     ]
    }
   ],
   "source": [
    "# 단어의 빈도파악 (단어 수 세기)\n",
    "\n",
    "# 단어 수 셀 때 딕셔너리 자료구조가 필요하다. \n",
    "# 왜? key와 value로 단어와 단어 개수를 표시해야 하므로\n",
    "word_count = {}\n",
    "\n",
    "# 단어 수 셀 때 주의사항: \n",
    "# 각 문장안에 단어가 있으므로 2중 for문 구조가 필요\n",
    "# 바깥 for문이 개별 문장이고, \n",
    "# 안쪽 for문이 그 문장 안에 단어이다.\n",
    "\n",
    "#  전처리 데이터셋 에서 text라는 이름으로 문장 하나씩 끄집어 냄\n",
    "for text in clean_text2:\n",
    "    # 끄집어낸 문장에서 단어 하나씩 추출\n",
    "    # split함수가 없으면 단어의 글자로 전부 세버린다. split을 써야\n",
    "    # 문장 안에서 단어로 인식 가능 \n",
    "    for word in text.split(): \n",
    "        # 딕셔너리 자료구조에서 단어를 key값으로 놓고\n",
    "        # get함수를 이용해서 같은 데이터가 들올 때마다 1씩 증가\n",
    "        word_count[word] = word_count.get(word, 0) + 1\n",
    "\n",
    "print(word_count)"
   ]
  },
  {
   "cell_type": "code",
   "execution_count": 17,
   "metadata": {},
   "outputs": [
    {
     "name": "stdout",
     "output_type": "stream",
     "text": [
      "[단독] -> 2\n",
      "거래 -> 2\n",
      "방문한 -> 2\n",
      "띄우기 -> 2\n",
      "한동훈 -> 2\n",
      "장관 -> 2\n",
      "{'[단독]': 2, '거래': 2, '방문한': 2, '띄우기': 2, '한동훈': 2, '장관': 2}\n"
     ]
    }
   ],
   "source": [
    "# 단어 전처리 (글자데이터에 의미부여)\n",
    "# 2회이상 출현단어 + 2~4자 단어만 선정\n",
    "\n",
    "new_word_count = {}\n",
    "# 딕셔너리 구조의 items함수 이용해서 단어의 빈도수와 단어정보를\n",
    "# 동시에 접근 하였고 개별 원소에서 변수 2개 설정 (word, cnt)\n",
    "for word, cnt in word_count.items():\n",
    "    # 2회 이상출현 & 단어 글자 수 2~4글자 사이\n",
    "    if cnt >=2 and len(word) >= 2 and len(word) <=4:\n",
    "        print(word, \"->\", word_count[word])\n",
    "        # 딕셔너리 자료구조에서 단어를 key값으로 놓고\n",
    "        # get함수를 이용해서 같은 데이터가 들올 때마다 1씩 증가\n",
    "        new_word_count[word] = new_word_count.get(word, cnt)\n",
    "\n",
    "print(new_word_count)"
   ]
  },
  {
   "cell_type": "code",
   "execution_count": 18,
   "metadata": {},
   "outputs": [
    {
     "name": "stdout",
     "output_type": "stream",
     "text": [
      "[('[단독]', 2), ('거래', 2), ('방문한', 2), ('띄우기', 2), ('한동훈', 2)]\n"
     ]
    }
   ],
   "source": [
    "# 통계자료 작성\n",
    "\n",
    "from collections import Counter \n",
    "# 상위 몇위 등의 통계를 만드는 Counter라는 라이브러리에 데이터 입력\n",
    "count_result = Counter(new_word_count)\n",
    "# 단어 빈도 수 기준, 상위 5단어를 뽑아서 top5_word 변수에 저장\n",
    "top5_word = count_result.most_common(5)\n",
    "print(top5_word)\n",
    "\n",
    "\n"
   ]
  },
  {
   "cell_type": "code",
   "execution_count": 19,
   "metadata": {
    "scrolled": false
   },
   "outputs": [
    {
     "data": {
      "image/png": "[encoded data removed]",
      "text/plain": [
       "<Figure size 640x480 with 1 Axes>"
      ]
     },
     "metadata": {},
     "output_type": "display_data"
    },
    {
     "data": {
      "image/png": "[encoded data removed]",
      "text/plain": [
       "<Figure size 640x480 with 1 Axes>"
      ]
     },
     "metadata": {},
     "output_type": "display_data"
    }
   ],
   "source": [
    "import matplotlib.pyplot as plt\n",
    "\n",
    "# 폰트 설정\n",
    "plt.rcParams['font.family'] = 'Arial Unicode MS'  \n",
    "plt.rcParams['axes.unicode_minus'] = False\n",
    "\n",
    "# 그래프 데이터\n",
    "words = []\n",
    "counts = []\n",
    "\n",
    "for word, count in top5_word:\n",
    "    words.append(word)\n",
    "    counts.append(count)\n",
    "\n",
    "# 선그래프 그리기\n",
    "plt.plot(words, counts)\n",
    "plt.show()\n",
    "\n",
    "# 막대그래프 그리기\n",
    "plt.bar(words, counts)\n",
    "plt.show()\n"
   ]
  },
  {
   "cell_type": "code",
   "execution_count": null,
   "metadata": {},
   "outputs": [],
   "source": []
  },
  {
   "cell_type": "code",
   "execution_count": null,
   "metadata": {},
   "outputs": [],
   "source": []
  },
  {
   "cell_type": "code",
   "execution_count": null,
   "metadata": {},
   "outputs": [],
   "source": []
  },
  {
   "cell_type": "code",
   "execution_count": null,
   "metadata": {},
   "outputs": [],
   "source": []
  },
  {
   "cell_type": "code",
   "execution_count": null,
   "metadata": {},
   "outputs": [],
   "source": []
  }
 ],
 "metadata": {
  "kernelspec": {
   "display_name": "Python 3 (ipykernel)",
   "language": "python",
   "name": "python3"
  },
  "language_info": {
   "codemirror_mode": {
    "name": "ipython",
    "version": 3
   },
   "file_extension": ".py",
   "mimetype": "text/x-python",
   "name": "python",
   "nbconvert_exporter": "python",
   "pygments_lexer": "ipython3",
   "version": "3.11.5"
  }
 },
 "nbformat": 4,
 "nbformat_minor": 2
}
